{
 "cells": [
  {
   "cell_type": "code",
   "execution_count": null,
   "id": "4d1f5a70",
   "metadata": {},
   "outputs": [],
   "source": []
  },
  {
   "cell_type": "code",
   "execution_count": 4,
   "id": "f4d41054",
   "metadata": {},
   "outputs": [
    {
     "name": "stdout",
     "output_type": "stream",
     "text": [
      "bonjour cava bien\n"
     ]
    }
   ],
   "source": [
    "print(\"bonjour cava bien\")"
   ]
  },
  {
   "cell_type": "markdown",
   "id": "156d0bcd",
   "metadata": {},
   "source": [
    "# question1"
   ]
  },
  {
   "cell_type": "code",
   "execution_count": 5,
   "id": "05b0def6",
   "metadata": {},
   "outputs": [
    {
     "name": "stdout",
     "output_type": "stream",
     "text": [
      "Welcome to python world! Let's start coding \n"
     ]
    }
   ],
   "source": [
    "print(\"Welcome to python world! Let's start coding \")"
   ]
  },
  {
   "cell_type": "code",
   "execution_count": null,
   "id": "1a0b0865",
   "metadata": {},
   "outputs": [],
   "source": []
  }
 ],
 "metadata": {
  "kernelspec": {
   "display_name": "Python 3",
   "language": "python",
   "name": "python3"
  },
  "language_info": {
   "codemirror_mode": {
    "name": "ipython",
    "version": 3
   },
   "file_extension": ".py",
   "mimetype": "text/x-python",
   "name": "python",
   "nbconvert_exporter": "python",
   "pygments_lexer": "ipython3",
   "version": "3.8.8"
  }
 },
 "nbformat": 4,
 "nbformat_minor": 5
}
